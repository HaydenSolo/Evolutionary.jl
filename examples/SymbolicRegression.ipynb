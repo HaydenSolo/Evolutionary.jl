{
 "cells": [
  {
   "cell_type": "markdown",
   "metadata": {},
   "source": [
    "# Symbolic Regression with Genetic Programming\n",
    "\n",
    "Date: 2021-01-11  \n",
    "Categories: julia, evolutionary  \n",
    "Tags: symbolic regression, genetic programming\n",
    "<!--eofm-->\n",
    "\n",
    "## Introduction\n",
    "\n",
    "**Symbolic Regression** is a type of regression analysis that searches the space of mathematical expressions to find the model that best fits a given dataset, both in terms of accuracy and simplicity. While conventional regression techniques seek to optimize the parameters for a pre-specified model structure, symbolic regression avoids imposing prior assumptions, and instead infers the model from the data. Common representation of the SR model is an expression tree.\n",
    "\n",
    "- An example of the expression tree for $x^3+x^2+x$\n",
    "\n",
    "![](Expression_Tree.png)\n",
    "\n",
    "**Genetic Programming (GP)** evolves computer programs, traditionally represented as expression tree structures.  Some of the applications of GP are curve fitting, data modeling, symbolic regression, feature selection, classification, etc. \n",
    "<!--more-->"
   ]
  },
  {
   "cell_type": "markdown",
   "metadata": {},
   "source": [
    "## Benchmark Function\n",
    "\n",
    "We begin by importing some Julia libraries"
   ]
  },
  {
   "cell_type": "code",
   "execution_count": 1,
   "metadata": {},
   "outputs": [
    {
     "name": "stderr",
     "output_type": "stream",
     "text": [
      "┌ Info: Precompiling Evolutionary [86b6b26d-c046-49b6-aa0b-5f0f74682bd6]\n",
      "└ @ Base loading.jl:1273\n"
     ]
    }
   ],
   "source": [
    "using Evolutionary\n",
    "using Random\n",
    "using Plots\n",
    "Plots.gr()\n",
    "default(fmt = :png)"
   ]
  },
  {
   "cell_type": "markdown",
   "metadata": {},
   "source": [
    "We need to generate some data from **Nguyen-1** benchmark function: $x^3+x^2+x$"
   ]
  },
  {
   "cell_type": "code",
   "execution_count": 2,
   "metadata": {},
   "outputs": [
    {
     "data": {
      "text/plain": [
       "20-element Array{Float64,1}:\n",
       " -0.9646263465700713 \n",
       " -0.6799878057158164 \n",
       " -0.6541339421260974 \n",
       " -0.6461828007342891 \n",
       " -0.4743823295397043 \n",
       " -0.3922607778264351 \n",
       " -0.27308315609588885\n",
       " -0.2330176105940942 \n",
       " -0.1540874689837164 \n",
       " -0.09194172882571516\n",
       "  0.00590422275549729\n",
       "  0.06636603208772263\n",
       "  0.16856829512576077\n",
       "  0.18582314647694176\n",
       "  0.20459516053276605\n",
       "  0.49036263858165396\n",
       "  0.8749326091650076 \n",
       "  0.9138316481785176 \n",
       "  0.9178517526594696 \n",
       "  0.9471319596073715 "
      ]
     },
     "execution_count": 2,
     "metadata": {},
     "output_type": "execute_result"
    }
   ],
   "source": [
    "Random.seed!(42);\n",
    "d, n = 1, 20\n",
    "Nguyen1(x) = x*x*x + x*x + x\n",
    "xs = sort!(2*rand(n).-1)"
   ]
  },
  {
   "cell_type": "markdown",
   "metadata": {},
   "source": [
    "Next, we define collection of symbols and operations used for construction of of the genetic program expression.\n",
    "\n",
    "First, we define the symbols"
   ]
  },
  {
   "cell_type": "code",
   "execution_count": 3,
   "metadata": {},
   "outputs": [
    {
     "data": {
      "text/plain": [
       "1-element Array{Symbol,1}:\n",
       " :x"
      ]
     },
     "execution_count": 3,
     "metadata": {},
     "output_type": "execute_result"
    }
   ],
   "source": [
    "syms = [:x]"
   ]
  },
  {
   "cell_type": "markdown",
   "metadata": {},
   "source": [
    "and, the allowed functions"
   ]
  },
  {
   "cell_type": "code",
   "execution_count": 4,
   "metadata": {},
   "outputs": [
    {
     "data": {
      "text/plain": [
       "4-element Array{Function,1}:\n",
       " +\n",
       " -\n",
       " *\n",
       " /"
      ]
     },
     "execution_count": 4,
     "metadata": {},
     "output_type": "execute_result"
    }
   ],
   "source": [
    "funcs = Function[+, -, *, /]"
   ]
  },
  {
   "cell_type": "markdown",
   "metadata": {},
   "source": [
    "Let's define the fitness function for evaluation of the genetic program as root-mean-square error (RMSE)"
   ]
  },
  {
   "cell_type": "code",
   "execution_count": 5,
   "metadata": {},
   "outputs": [
    {
     "data": {
      "text/plain": [
       "fitobj (generic function with 1 method)"
      ]
     },
     "execution_count": 5,
     "metadata": {},
     "output_type": "execute_result"
    }
   ],
   "source": [
    "fitobj(expr) = sum( abs2.(Nguyen1.(xs) - Evolutionary.Expression(expr).(xs)) )/length(xs) |> sqrt"
   ]
  },
  {
   "cell_type": "markdown",
   "metadata": {},
   "source": [
    "Test some arbitrary expression with our fitness function"
   ]
  },
  {
   "cell_type": "code",
   "execution_count": 6,
   "metadata": {},
   "outputs": [
    {
     "name": "stdout",
     "output_type": "stream",
     "text": [
      "Evaluate expression: [0.9305039884971232, 0.4623834159222109, 0.42789121424142856, 0.41755221196481, 0.22503859457951658, 0.15386851782099986, 0.0745744101432916, 0.054297206846980924, 0.02374294809780776, 0.008453281499461342, 3.4859846346532014e-5, 0.004404450215068629, 0.028415270121605583, 0.034530241766590954, 0.04185917971342831, 0.2404555173167618, 0.7655070705802879, 0.835088281212666, 0.8424518398600602, 0.8970589489096996]\n",
      "Obj. func = 0.9660246588120451\n"
     ]
    }
   ],
   "source": [
    "expr = Expr(:call, *, :x, :x)\n",
    "println(\"Evaluate expression: \", Evolutionary.Expression(expr).(xs))\n",
    "println(\"Obj. func = \", fitobj(expr))"
   ]
  },
  {
   "cell_type": "markdown",
   "metadata": {},
   "source": [
    "Now, we use `TreeGP` optimization  algorithm that will construct a symbolic solution for "
   ]
  },
  {
   "cell_type": "code",
   "execution_count": 7,
   "metadata": {},
   "outputs": [
    {
     "data": {
      "text/plain": [
       "\n",
       " * Status: success\n",
       "\n",
       " * Candidate solution\n",
       "    Minimizer:  (+)((*)(x, (+)((*)(x, x), x)), x)\n",
       "    Minimum:    3.5652682413747996e-17\n",
       "    Iterations: 20\n",
       "\n",
       " * Found with\n",
       "    Algorithm: TreeGP[P=50,Parameter[x],Function[*, +, /, -]]\n"
      ]
     },
     "execution_count": 7,
     "metadata": {},
     "output_type": "execute_result"
    }
   ],
   "source": [
    "Random.seed!(987498737423);\n",
    "res = Evolutionary.optimize(fitobj,\n",
    "    TreeGP(50, Terminal[syms...], funcs,\n",
    "        mindepth=1,\n",
    "        maxdepth=4,\n",
    "        optimizer = GA(\n",
    "            selection = uniformranking(5),\n",
    "            ɛ = 0.1,\n",
    "            mutationRate = 0.95,\n",
    "            crossoverRate = 0.05,\n",
    "        ),\n",
    "    )\n",
    ")"
   ]
  },
  {
   "cell_type": "markdown",
   "metadata": {},
   "source": [
    "We can generate minimizing expression in LaTeX format "
   ]
  },
  {
   "cell_type": "code",
   "execution_count": 8,
   "metadata": {},
   "outputs": [
    {
     "data": {
      "text/html": [
       "((x*((x*x)+x))+x)"
      ],
      "text/latex": [
       "\\left(\\left(x*\\left(\\left(x*x\\right)+x\\right)\\right)+x\\right)"
      ],
      "text/plain": [
       "((x*((x*x)+x))+x)"
      ]
     },
     "execution_count": 8,
     "metadata": {},
     "output_type": "execute_result"
    }
   ],
   "source": [
    "Evolutionary.minimizer(res) |> Evolutionary.Expression"
   ]
  },
  {
   "cell_type": "markdown",
   "metadata": {},
   "source": [
    "The minimizing expression\n",
    "$$\\left(\\left(x*\\left(\\left(x*x\\right)+x\\right)\\right)+x\\right)$$"
   ]
  },
  {
   "cell_type": "markdown",
   "metadata": {},
   "source": [
    "## Symbolic Regression"
   ]
  },
  {
   "cell_type": "markdown",
   "metadata": {},
   "source": [
    "### Linear"
   ]
  },
  {
   "cell_type": "markdown",
   "metadata": {},
   "source": [
    "We generate a dataset to work with"
   ]
  },
  {
   "cell_type": "code",
   "execution_count": 9,
   "metadata": {},
   "outputs": [
    {
     "data": {
      "text/plain": [
       "([-20.0, -19.183673469387756, -18.367346938775512, -17.551020408163264, -16.73469387755102, -15.918367346938776, -15.10204081632653, -14.285714285714286, -13.46938775510204, -12.653061224489797  …  12.653061224489797, 13.46938775510204, 14.285714285714286, 15.10204081632653, 15.918367346938776, 16.73469387755102, 17.551020408163264, 18.367346938775512, 19.183673469387756, 20.0], [-10.301775957695707, -10.233893692226244, -0.5108186849245042, -4.548650362389421, -11.37884481662021, -13.45714316027289, -3.411883269164912, -1.6257189913947885, -7.9511271443853495, -4.779000246208424  …  9.182787509211524, 19.30856201963916, 19.363218214500648, 11.01307966019218, 18.25693527098487, 8.264341990912298, 24.771086256895913, 18.58907728951158, 24.017965869842424, 19.200868554184602])"
      ]
     },
     "execution_count": 9,
     "metadata": {},
     "output_type": "execute_result"
    }
   ],
   "source": [
    "Random.seed!(42);\n",
    "n = 50\n",
    "xs = range(-20, 20, length=n) |> collect\n",
    "ys = (rand(n).*0.8.+0.3).*xs + (rand(n).*5.0.+2.0)\n",
    "xs, ys"
   ]
  },
  {
   "cell_type": "code",
   "execution_count": 10,
   "metadata": {},
   "outputs": [
    {
     "data": {
      "image/png": "[encoded data removed]"
     },
     "execution_count": 10,
     "metadata": {},
     "output_type": "execute_result"
    }
   ],
   "source": [
    "scatter(xs, ys, leg=:none)"
   ]
  },
  {
   "cell_type": "markdown",
   "metadata": {},
   "source": [
    "Define our objective function and test it with an arbitrary exression"
   ]
  },
  {
   "cell_type": "code",
   "execution_count": 11,
   "metadata": {},
   "outputs": [
    {
     "name": "stdout",
     "output_type": "stream",
     "text": [
      "Obj. func = 1290.672514731313\n"
     ]
    }
   ],
   "source": [
    "fitobj(expr) = sum( abs2.(ys - Evolutionary.Expression(expr).(xs)) ) |> sqrt\n",
    "\n",
    "expr = Expr(:call, *, :x, :x)\n",
    "println(\"Obj. func = \", fitobj(expr))"
   ]
  },
  {
   "cell_type": "markdown",
   "metadata": {},
   "source": [
    "We need to the symbol collection `rand` function which will alow to generate numerical constanst in addition to the symbolical variables. For each symbol we specify its arity."
   ]
  },
  {
   "cell_type": "code",
   "execution_count": 12,
   "metadata": {},
   "outputs": [
    {
     "data": {
      "text/plain": [
       "Dict{Any,Int64} with 2 entries:\n",
       "  rand => 1\n",
       "  :x   => 1"
      ]
     },
     "execution_count": 12,
     "metadata": {},
     "output_type": "execute_result"
    }
   ],
   "source": [
    "syms = Dict(:x=>1, (rand) => 1)"
   ]
  },
  {
   "cell_type": "markdown",
   "metadata": {},
   "source": [
    "We define linear operations, and provide their arity."
   ]
  },
  {
   "cell_type": "code",
   "execution_count": 13,
   "metadata": {},
   "outputs": [
    {
     "data": {
      "text/plain": [
       "Dict{Function,Int64} with 4 entries:\n",
       "  * => 2\n",
       "  + => 2\n",
       "  / => 2\n",
       "  - => 2"
      ]
     },
     "execution_count": 13,
     "metadata": {},
     "output_type": "execute_result"
    }
   ],
   "source": [
    "funcs = Dict((+) => 2, (-) => 2,  (*) => 2, (/) => 2)"
   ]
  },
  {
   "cell_type": "markdown",
   "metadata": {},
   "source": [
    "We also need to increase maximum depth for the expression tree to accommodate more complex expressions"
   ]
  },
  {
   "cell_type": "code",
   "execution_count": 14,
   "metadata": {},
   "outputs": [
    {
     "name": "stdout",
     "output_type": "stream",
     "text": [
      "Iter     Function value\n",
      "     0              0.0\n",
      " * time: 0.016000986099243164\n",
      "    10   23.070150702286064\n",
      " * time: 0.5699429512023926\n",
      "    20   23.050119363563365\n",
      " * time: 0.8840680122375488\n"
     ]
    },
    {
     "data": {
      "text/plain": [
       "\n",
       " * Status: success\n",
       "\n",
       " * Candidate solution\n",
       "    Minimizer:  (-)((+)((/)(0.7443415808289588, 0.2519046833943326), (*)(x, 0.7443415808289588)), (-)((-)(x, 0.7443415808289588), (+)(x, 0.7443415808289588)))\n",
       "    Minimum:    23.050119363563365\n",
       "    Iterations: 29\n",
       "\n",
       " * Found with\n",
       "    Algorithm: TreeGP[P=500,Parameter[x],Function[*, +, /, -]]\n"
      ]
     },
     "execution_count": 14,
     "metadata": {},
     "output_type": "execute_result"
    }
   ],
   "source": [
    "Random.seed!(987498737423);\n",
    "res = Evolutionary.optimize(fitobj,\n",
    "    TreeGP(\n",
    "        populationSize = 500,\n",
    "        terminals = syms,\n",
    "        functions = funcs,\n",
    "        mindepth=1,\n",
    "        maxdepth=3,\n",
    "        initialization=:full,\n",
    "        optimizer = GA(\n",
    "            selection = uniformranking(2),\n",
    "            mutationRate = 0.1,\n",
    "            crossoverRate = 0.95,\n",
    "            ɛ = 0.001\n",
    "        ),\n",
    "    ),\n",
    "    Evolutionary.Options(iterations=50, show_trace=true, show_every=10)\n",
    ")"
   ]
  },
  {
   "cell_type": "markdown",
   "metadata": {},
   "source": [
    "Here is our minimizing expression"
   ]
  },
  {
   "cell_type": "code",
   "execution_count": 15,
   "metadata": {},
   "outputs": [
    {
     "data": {
      "text/html": [
       "(((0.744/0.252)+(x*0.744))-((x-0.744)-(x+0.744)))"
      ],
      "text/latex": [
       "\\left(\\left(\\frac{0.744}{0.252}+\\left(x*0.744\\right)\\right)-\\left(\\left(x-0.744\\right)-\\left(x+0.744\\right)\\right)\\right)"
      ],
      "text/plain": [
       "(((0.744/0.252)+(x*0.744))-((x-0.744)-(x+0.744)))"
      ]
     },
     "execution_count": 15,
     "metadata": {},
     "output_type": "execute_result"
    }
   ],
   "source": [
    "ex = Evolutionary.Expression(Evolutionary.minimizer(res))"
   ]
  },
  {
   "cell_type": "markdown",
   "metadata": {},
   "source": [
    "Calculate least squares solution for comparison"
   ]
  },
  {
   "cell_type": "code",
   "execution_count": 16,
   "metadata": {},
   "outputs": [
    {
     "data": {
      "text/plain": [
       "2-element Array{Float64,1}:\n",
       " 4.467274179301777 \n",
       " 0.7300600401251902"
      ]
     },
     "execution_count": 16,
     "metadata": {},
     "output_type": "execute_result"
    }
   ],
   "source": [
    "X = hcat(ones(n), xs)\n",
    "β = inv(X'X)*X'ys"
   ]
  },
  {
   "cell_type": "code",
   "execution_count": 17,
   "metadata": {
    "scrolled": false
   },
   "outputs": [
    {
     "data": {
      "image/png": "[encoded data removed]"
     },
     "execution_count": 17,
     "metadata": {},
     "output_type": "execute_result"
    }
   ],
   "source": [
    "scatter(xs, ys, label=\"Data\", legend=:topleft)\n",
    "plot!(xs, β[2].*(xs).+β[1], label=\"Linear\")\n",
    "plot!(xs, ex.(xs), label=\"Symbolic\")"
   ]
  },
  {
   "cell_type": "markdown",
   "metadata": {},
   "source": [
    "### Nonlinear"
   ]
  },
  {
   "cell_type": "markdown",
   "metadata": {},
   "source": [
    "Now, let's generate some noisy with nonlinear data"
   ]
  },
  {
   "cell_type": "code",
   "execution_count": 18,
   "metadata": {},
   "outputs": [
    {
     "data": {
      "text/plain": [
       "([0.0, 0.1, 0.2, 0.30000000000000004, 0.4, 0.5, 0.6000000000000001, 0.7000000000000001, 0.8, 0.9  …  5.300000000000001, 5.4, 5.5, 5.6000000000000005, 5.7, 5.800000000000001, 5.9, 6.0, 6.1000000000000005, 6.2], [0.7219865619268069, 0.8577083159332218, 1.1333079938025434, 0.9711137763915625, 1.9750556006844782, 0.44727707860793275, 0.6926972867878716, 0.8922565614583021, -0.6328389354401641, 1.0577797656641383  …  -1.4019731481680853, -1.2610491311786165, -0.25605035540673443, -0.3085504793933047, -0.2547580599017927, 0.43075074590266565, -0.06247315632300754, -0.2608450734190263, 0.5449753531328724, 0.9167487102317231])"
      ]
     },
     "execution_count": 18,
     "metadata": {},
     "output_type": "execute_result"
    }
   ],
   "source": [
    "Random.seed!(42);\n",
    "xs = collect(0:0.1:2*pi) |> sort!\n",
    "ys = sin.(xs) + cos.(xs + xs) .+ randn(length(xs))./2\n",
    "xs, ys"
   ]
  },
  {
   "cell_type": "code",
   "execution_count": 19,
   "metadata": {},
   "outputs": [
    {
     "data": {
      "image/png": "[encoded data removed]"
     },
     "execution_count": 19,
     "metadata": {},
     "output_type": "execute_result"
    }
   ],
   "source": [
    "scatter(xs, ys, leg=:none)"
   ]
  },
  {
   "cell_type": "markdown",
   "metadata": {},
   "source": [
    "We also expend the function collection with `sin`, `cos`, `log`,  and `exp`. We also provide arity for each function."
   ]
  },
  {
   "cell_type": "code",
   "execution_count": 20,
   "metadata": {},
   "outputs": [
    {
     "data": {
      "text/plain": [
       "Dict{Function,Int64} with 6 entries:\n",
       "  *   => 2\n",
       "  +   => 2\n",
       "  sin => 1\n",
       "  /   => 2\n",
       "  -   => 2\n",
       "  cos => 1"
      ]
     },
     "execution_count": 20,
     "metadata": {},
     "output_type": "execute_result"
    }
   ],
   "source": [
    "funcs = Dict((+) => 2, (-) => 2,  (*) => 2, (/) => 2,\n",
    "             (sin) => 1, (cos) => 1)\n",
    "             #(^)=>2, (log) => 1, (exp) => 1)"
   ]
  },
  {
   "cell_type": "markdown",
   "metadata": {},
   "source": [
    "We also need to increase maximum depth for the expression tree to accommodate more complex expressions"
   ]
  },
  {
   "cell_type": "code",
   "execution_count": 21,
   "metadata": {},
   "outputs": [
    {
     "name": "stdout",
     "output_type": "stream",
     "text": [
      "Iter     Function value\n",
      "     0              0.0\n",
      " * time: 0.00010800361633300781\n",
      "    15   4.072232948324664\n",
      " * time: 0.41045403480529785\n"
     ]
    },
    {
     "data": {
      "text/plain": [
       "\n",
       " * Status: success\n",
       "\n",
       " * Candidate solution\n",
       "    Minimizer:  (+)((cos)((+)(x, x)), (sin)((sin)(x)))\n",
       "    Minimum:    4.072232948324664\n",
       "    Iterations: 16\n",
       "\n",
       " * Found with\n",
       "    Algorithm: TreeGP[P=1000,Parameter[x],Function[*, +, sin, /, -, cos]]\n"
      ]
     },
     "execution_count": 21,
     "metadata": {},
     "output_type": "execute_result"
    }
   ],
   "source": [
    "Random.seed!(9874987374243);\n",
    "res = Evolutionary.optimize(fitobj,\n",
    "    TreeGP(\n",
    "        populationSize = 1000,\n",
    "        terminals = syms,\n",
    "        functions = funcs,\n",
    "        mindepth=1,\n",
    "        maxdepth=4,\n",
    "        initialization=:grow,\n",
    "        optimizer = GA(\n",
    "            selection = uniformranking(5),\n",
    "            mutationRate = 0.1,\n",
    "            crossoverRate = 0.8,\n",
    "            ɛ = 0.001\n",
    "        ),\n",
    "    ),\n",
    "    Evolutionary.Options(iterations=60, show_trace=true, show_every=15)\n",
    ")"
   ]
  },
  {
   "cell_type": "markdown",
   "metadata": {},
   "source": [
    "Here is the resulting expression, and the plot of this expression evaluated on the original data.\n",
    "\n",
    "- The resulting expression is very close to the original data-generating function, $\\sin(x) + \\cos(x + x) + \\varepsilon$. "
   ]
  },
  {
   "cell_type": "code",
   "execution_count": 22,
   "metadata": {},
   "outputs": [
    {
     "data": {
      "text/html": [
       "(cos((x+x))+sin(sin(x)))"
      ],
      "text/latex": [
       "\\left(\\cos\\left(\\left(x+x\\right)\\right)+\\sin\\left(\\sin\\left(x\\right)\\right)\\right)"
      ],
      "text/plain": [
       "(cos((x+x))+sin(sin(x)))"
      ]
     },
     "execution_count": 22,
     "metadata": {},
     "output_type": "execute_result"
    }
   ],
   "source": [
    "ex = Evolutionary.Expression(Evolutionary.minimizer(res) |> copy)"
   ]
  },
  {
   "cell_type": "code",
   "execution_count": 23,
   "metadata": {
    "scrolled": false
   },
   "outputs": [
    {
     "data": {
      "image/png": "[encoded data removed]"
     },
     "execution_count": 23,
     "metadata": {},
     "output_type": "execute_result"
    }
   ],
   "source": [
    "plot(xs, ys, label=\"Original\")\n",
    "plot!(xs, ex.(xs), label=\"Predicted\")"
   ]
  },
  {
   "cell_type": "markdown",
   "metadata": {},
   "source": [
    "### Expression Simplification \n",
    "\n",
    "However, sometimes, the generated expression can be quite long"
   ]
  },
  {
   "cell_type": "code",
   "execution_count": 24,
   "metadata": {},
   "outputs": [
    {
     "name": "stdout",
     "output_type": "stream",
     "text": [
      "Iter     Function value\n",
      "     0              0.0\n",
      " * time: 9.202957153320312e-5\n",
      "    15   4.928502370610355\n",
      " * time: 0.717289924621582\n",
      "    30   4.7741079939719295\n",
      " * time: 2.1325550079345703\n"
     ]
    },
    {
     "data": {
      "text/plain": [
       "\n",
       " * Status: success\n",
       "\n",
       " * Candidate solution\n",
       "    Minimizer:  (cos)((-)((+)((*)((-)((+)((*)((*)((-)((+)((+)((*)((-)((+)((*)((*)((-)((+)((*)((*)((-)(0.9450845364794724, x), 0.9450845364794724), 0.9450845364794724), (cos)(0.9450845364794724)), 0.9450845364794724), 0.9450845364794724), 0.9450845364794724), (cos)(0.9450845364794724)), 0.9450845364794724), (sin)(x)), (cos)(0.9450845364794724)), (cos)(0.9450845364794724)), 0.9450845364794724), 0.9450845364794724), 0.9450845364794724), (cos)(0.9450845364794724)), 0.9450845364794724), (sin)(x)), (cos)(0.9450845364794724)), 0.9450845364794724))\n",
       "    Minimum:    4.7741079939719295\n",
       "    Iterations: 41\n",
       "\n",
       " * Found with\n",
       "    Algorithm: TreeGP[P=500,Parameter[x],Function[*, +, sin, /, -, cos]]\n"
      ]
     },
     "execution_count": 24,
     "metadata": {},
     "output_type": "execute_result"
    }
   ],
   "source": [
    "Random.seed!(987498737424);\n",
    "res = Evolutionary.optimize(fitobj,\n",
    "    TreeGP(\n",
    "        populationSize = 500,\n",
    "        terminals = syms,\n",
    "        functions = funcs,\n",
    "        mindepth=1,\n",
    "        maxdepth=5,\n",
    "        initialization=:grow,\n",
    "        optimizer = GA(\n",
    "            selection = uniformranking(2),\n",
    "            mutationRate = 0.15,\n",
    "            crossoverRate = 0.8,\n",
    "            ɛ = 0.001\n",
    "        ),\n",
    "    ),\n",
    "    Evolutionary.Options(iterations=50, show_trace=true, show_every=15)\n",
    ")"
   ]
  },
  {
   "cell_type": "markdown",
   "metadata": {},
   "source": [
    "The minimizer function is quite long, so we might want to simplify it. We'll use `SymPy` package functionality to perform the expression simplification."
   ]
  },
  {
   "cell_type": "code",
   "execution_count": 25,
   "metadata": {
    "code_folding": []
   },
   "outputs": [
    {
     "data": {
      "text/plain": [
       "simplify! (generic function with 1 method)"
      ]
     },
     "execution_count": 25,
     "metadata": {},
     "output_type": "execute_result"
    }
   ],
   "source": [
    "using SymPy, PyCall\n",
    "sympycore = pyimport(\"sympy.core\")\n",
    "\n",
    "# Convert sympy expression back to the julia expression\n",
    "function convert(::Type{Expr}, sexpr::Sym)\n",
    "    # deal with numbers and symbols\n",
    "    if sexpr.is_Float\n",
    "        return Float64(sexpr.num)\n",
    "    elseif sexpr.is_Rational\n",
    "        return Float64(sexpr.evalf().num)\n",
    "    elseif sexpr.is_Symbol\n",
    "        return Symbol(sexpr.name)\n",
    "    end\n",
    "    # convert functions\n",
    "    expr = Expr(:call)\n",
    "    fn, (le, re) = if sexpr.is_Function\n",
    "        fname = Symbol(\"$(sexpr.func)\"[10:end])\n",
    "        a2 = length(sexpr.args) > 1 ? sexpr.args[2] : nothing\n",
    "        eval(fname), (sexpr.args[1], a2)\n",
    "    elseif sexpr.func == sympycore.mul.Mul\n",
    "        (*), sexpr.as_two_terms()\n",
    "    elseif sexpr.func == sympycore.power.Pow\n",
    "        (^), sexpr.args[1:2]\n",
    "    elseif sexpr.func == sympycore.add.Add\n",
    "        (+), sexpr.as_two_terms()\n",
    "    end\n",
    "#     println(fn, \" \", le, \" \", re)\n",
    "    push!(expr.args, fn)\n",
    "    push!(expr.args, convert(Expr, le))\n",
    "    re !== nothing && push!(expr.args, convert(Expr, re))\n",
    "    return expr\n",
    "end\n",
    "\n",
    "function simplify!(ex::Expr)\n",
    "    expr = Evolutionary.Expression(ex)\n",
    "    length(expr.syms) == 0 && return ex\n",
    "    sexpr = eval(Expr(:call, expr, map(Sym ∘ string, expr.syms)...))\n",
    "    sexpr = SymPy.simplify(sexpr)\n",
    "    copyto!(ex, convert(Expr, sexpr))\n",
    "end"
   ]
  },
  {
   "cell_type": "code",
   "execution_count": 26,
   "metadata": {},
   "outputs": [
    {
     "data": {
      "text/html": [
       "cos((0.359+((0.157+((-0.066+(0.713*x))*sin(x)))*sin(x))))"
      ],
      "text/latex": [
       "\\cos\\left(\\left(0.359+\\left(\\left(0.157+\\left(\\left(-0.066+\\left(0.713*x\\right)\\right)*\\sin\\left(x\\right)\\right)\\right)*\\sin\\left(x\\right)\\right)\\right)\\right)"
      ],
      "text/plain": [
       "cos((0.359+((0.157+((-0.066+(0.713*x))*sin(x)))*sin(x))))"
      ]
     },
     "execution_count": 26,
     "metadata": {},
     "output_type": "execute_result"
    }
   ],
   "source": [
    "ex = simplify!(Evolutionary.minimizer(res)) |> Evolutionary.Expression"
   ]
  },
  {
   "cell_type": "markdown",
   "metadata": {},
   "source": [
    "We can generate a LaTeX expression of the simplified minimizer"
   ]
  },
  {
   "cell_type": "code",
   "execution_count": 27,
   "metadata": {},
   "outputs": [
    {
     "data": {
      "text/latex": [
       "\\cos\\left(\\left(0.359+\\left(\\left(0.157+\\left(\\left(-0.066+\\left(0.713*x\\right)\\right)*\\sin\\left(x\\right)\\right)\\right)*\\sin\\left(x\\right)\\right)\\right)\\right)"
      ]
     },
     "metadata": {},
     "output_type": "display_data"
    }
   ],
   "source": [
    "display(\"text/latex\", ex)"
   ]
  },
  {
   "cell_type": "markdown",
   "metadata": {},
   "source": [
    "Thus, the simplified expression is the following:\n",
    "\n",
    "$$\\cos\\left(\\left(0.359+\\left(\\left(0.157+\\left(\\left(-0.066+\\left(0.713*x\\right)\\right)*\\sin\\left(x\\right)\\right)\\right)*\\sin\\left(x\\right)\\right)\\right)\\right)$$\n",
    "\n",
    "We can plot resulting function along with original data"
   ]
  },
  {
   "cell_type": "code",
   "execution_count": 28,
   "metadata": {},
   "outputs": [
    {
     "data": {
      "image/png": "[encoded data removed]"
     },
     "execution_count": 28,
     "metadata": {},
     "output_type": "execute_result"
    }
   ],
   "source": [
    "plot(xs, ys, label=\"Original\")\n",
    "plot!(xs, ex.(xs), label=\"Predicted\")"
   ]
  },
  {
   "cell_type": "markdown",
   "metadata": {},
   "source": [
    "You can find the corresponding Jupyter notebook in the [Evolutionary](https://github.com/wildart/Evolutionary.jl/tree/master/examples) package repository."
   ]
  }
 ],
 "metadata": {
  "kernelspec": {
   "display_name": "Julia 1.3.1",
   "language": "julia",
   "name": "julia-1.3"
  },
  "language_info": {
   "file_extension": ".jl",
   "mimetype": "application/julia",
   "name": "julia",
   "version": "1.3.1"
  }
 },
 "nbformat": 4,
 "nbformat_minor": 2
}
